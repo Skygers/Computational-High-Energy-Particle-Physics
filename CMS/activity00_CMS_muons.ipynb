{
  "nbformat": 4,
  "nbformat_minor": 0,
  "metadata": {
    "colab": {
      "provenance": [],
      "include_colab_link": true
    },
    "kernelspec": {
      "display_name": "Python 3",
      "name": "python3"
    }
  },
  "cells": [
    {
      "cell_type": "markdown",
      "metadata": {
        "id": "view-in-github",
        "colab_type": "text"
      },
      "source": [
        "<a href=\"https://colab.research.google.com/github/Skygers/Computational-High-Energy-Particle-Physics/blob/main/CMS/activity00_CMS_muons.ipynb\" target=\"_parent\"><img src=\"https://colab.research.google.com/assets/colab-badge.svg\" alt=\"Open In Colab\"/></a>"
      ]
    },
    {
      "cell_type": "markdown",
      "metadata": {
        "id": "hX4Slau4BG5f"
      },
      "source": [
        "# How to edit and save this notebook to your personal Google Drive\n",
        "\n",
        "If you try to run code in this notebook, you will be unable to as you are not the owner. Instead, you should first make a copy.\n",
        "\n",
        "To copy this notebook to your Google Drive\n",
        "* Select **File** (from the menu at the top) to get the drop-down options.\n",
        "* Select **Save a copy in Drive**.\n",
        "\n",
        "This will automatically open the copy in a new tab for you to work in. This new notebook will be saved into a folder on your personal Drive called *Colab Notebooks*.\n",
        "\n",
        "After you do this, you will be able to edit and run the notebook and save your changes.\n",
        "\n",
        "Still stumped? Check out <a href=\"https://www.youtube.com/watch?v=qaJ2UpMPXKk\"> this video</a> for help or the **Documentation and help** section of the Particle Physics Playground."
      ]
    },
    {
      "cell_type": "markdown",
      "metadata": {
        "id": "clEqqOhrC2ng"
      },
      "source": [
        "# Relativistic kinematics"
      ]
    },
    {
      "cell_type": "markdown",
      "metadata": {
        "id": "SyMLvX3SC2nj"
      },
      "source": [
        "<h3>Learning goals</h3>\n",
        "<ul>\n",
        "    <li>Relativistic kinematics.\n",
        "    <li>Standard model particles.\n",
        "</ul>"
      ]
    },
    {
      "cell_type": "markdown",
      "metadata": {
        "id": "xXKjPEkqC2nm"
      },
      "source": [
        "<b>Background</b>\n",
        "\n",
        "If you know the mass of a particle, most of the time you know <i>what that particle is</i>. However, there is no way to just build a single detector that gives you the mass. You need to be clever and make use of Special relativity, specifically <a href=\"http://en.wikipedia.org/wiki/Relativistic_mechanics\">relativistic kinematics</a>.\n",
        "\n",
        "To determine the mass ($m$) of a particle you need to know the 4-momenta of the particles ($\\mathbf{P}$) that are detected after the collision: the energy ($E$), the momentum in the x direction ($p_x$), the momentum in the y direction ($p_y$), the momentum in the z direction ($p_z$).\n",
        "\n",
        "$$\\mathbf{P} = (E,p_x,p_y,p_z)$$\n",
        "\n",
        "\n",
        "\\begin{equation*} m = \\sqrt{E^2-(p_x^2+p_y^2 + p_z^2)} \\end{equation*}\n"
      ]
    },
    {
      "cell_type": "markdown",
      "metadata": {
        "id": "tEBotUylC2nn"
      },
      "source": [
        "<b>Let's code!</b>\n",
        "\n",
        "Here is some sample code that reads in data from a small sample file from the <a href = \"http://cms.cern/\">CMS experiment</a>. It loops over data from many different proton-proton collisions.\n",
        "\n",
        "If you haven't already, you will want to go through the [Data Interfacing](https://colab.research.google.com/drive/1wMs8ffF8KjQhulL90_fCCVIZT5Q4e9x5) exercise so you know how to pull out the relevant information.\n",
        "\n",
        "For each collision, you can get the 4-momenta of the jets, muons, electrons, and photons produced in these collisions.\n",
        "\n"
      ]
    },
    {
      "cell_type": "markdown",
      "metadata": {
        "id": "JoRzIWp-C2n1"
      },
      "source": [
        "<h2><font color=\"red\">Challenge!</font></h2>\n",
        "\n",
        "Copy this sample code and use it to calculate the mass of the muons. Make a histogram of this quantity.\n",
        "\n",
        "<i>Hint!</i>\n",
        "\n",
        "Make sure you do this for all the muons! Each collision can produce differing numbers of muons, so take care when you code this up."
      ]
    },
    {
      "cell_type": "code",
      "metadata": {
        "id": "ZlZXynvoC2np",
        "outputId": "4b79e935-62a1-403f-8741-fe7559ee310b",
        "colab": {
          "base_uri": "https://localhost:8080/"
        }
      },
      "source": [
        "###### This cell need only be run once per session ##############\n",
        "###### Make sure your runtime type is Python 3 #########\n",
        "\n",
        "# Import h5hep from Github. This is to allow us to read these\n",
        "# particular files.\n",
        "!pip install git+https://github.com/mattbellis/h5hep.git\n",
        "\n",
        "# Import custom tools package from Github. These are some simple accessor functions\n",
        "# to make it easier to work with these data files.\n",
        "!pip install git+https://github.com/mattbellis/particle_physics_simplified.git\n",
        "\n",
        "import pps_tools as pps\n",
        "import h5hep"
      ],
      "execution_count": 1,
      "outputs": [
        {
          "output_type": "stream",
          "name": "stdout",
          "text": [
            "Collecting git+https://github.com/mattbellis/h5hep.git\n",
            "  Cloning https://github.com/mattbellis/h5hep.git to /tmp/pip-req-build-8c43xxa1\n",
            "  Running command git clone --filter=blob:none --quiet https://github.com/mattbellis/h5hep.git /tmp/pip-req-build-8c43xxa1\n",
            "  Resolved https://github.com/mattbellis/h5hep.git to commit d9adc7dc7f7e3a3ec60671c731bf74a5f83e4e30\n",
            "  Preparing metadata (setup.py) ... \u001b[?25l\u001b[?25hdone\n",
            "Requirement already satisfied: numpy in /usr/local/lib/python3.10/dist-packages (from h5hep==0.9) (1.26.4)\n",
            "Requirement already satisfied: h5py in /usr/local/lib/python3.10/dist-packages (from h5hep==0.9) (3.12.1)\n",
            "Building wheels for collected packages: h5hep\n",
            "  Building wheel for h5hep (setup.py) ... \u001b[?25l\u001b[?25hdone\n",
            "  Created wheel for h5hep: filename=h5hep-0.9-py3-none-any.whl size=19766 sha256=0995d2e5cb74ac8275bd78a7b9e77914cc4f43bdf3f798455f6eb58b07b59082\n",
            "  Stored in directory: /tmp/pip-ephem-wheel-cache-3_x0us5q/wheels/4d/9a/b1/eb2b2bdbe588e10e0e1f643393d224d1e4d70a601879a3f0a1\n",
            "Successfully built h5hep\n",
            "Installing collected packages: h5hep\n",
            "Successfully installed h5hep-0.9\n",
            "Collecting git+https://github.com/mattbellis/particle_physics_simplified.git\n",
            "  Cloning https://github.com/mattbellis/particle_physics_simplified.git to /tmp/pip-req-build-bsxurijm\n",
            "  Running command git clone --filter=blob:none --quiet https://github.com/mattbellis/particle_physics_simplified.git /tmp/pip-req-build-bsxurijm\n",
            "  Resolved https://github.com/mattbellis/particle_physics_simplified.git to commit 85ec828661b39c6c08caa7625a584a76f473ee2a\n",
            "  Preparing metadata (setup.py) ... \u001b[?25l\u001b[?25hdone\n",
            "Requirement already satisfied: numpy in /usr/local/lib/python3.10/dist-packages (from particle_physics_simplified==0.9) (1.26.4)\n",
            "Requirement already satisfied: h5py in /usr/local/lib/python3.10/dist-packages (from particle_physics_simplified==0.9) (3.12.1)\n",
            "Requirement already satisfied: h5hep in /usr/local/lib/python3.10/dist-packages (from particle_physics_simplified==0.9) (0.9)\n",
            "Building wheels for collected packages: particle_physics_simplified\n",
            "  Building wheel for particle_physics_simplified (setup.py) ... \u001b[?25l\u001b[?25hdone\n",
            "  Created wheel for particle_physics_simplified: filename=particle_physics_simplified-0.9-py3-none-any.whl size=31642 sha256=94fdff3b31b35eaf6f15d40781ef33a3df6f1009c86b90f238f1896cd0698213\n",
            "  Stored in directory: /tmp/pip-ephem-wheel-cache-8h5o62xt/wheels/b5/bf/15/a241b8a503b88e02e277b32a84a0a809de19801bac300cb9c1\n",
            "Successfully built particle_physics_simplified\n",
            "Installing collected packages: particle_physics_simplified\n",
            "Successfully installed particle_physics_simplified-0.9\n"
          ]
        }
      ]
    },
    {
      "cell_type": "code",
      "metadata": {
        "id": "iXFgDnMl-930"
      },
      "source": [
        "###### This cell need only be run once per session ############################\n",
        "\n",
        "# Fetch data file with 1000 collisions\n",
        "pps.download_from_drive('dimuons_1000_collisions.hdf5')\n",
        "\n",
        "# Uncomment the line below to download a larger dataset with 100,000 collisions\n",
        "pps.download_from_drive('dimuons_100k.hdf5')\n",
        "\n",
        "# You may want to test your code with the smaller file, and then when it works,\n",
        "# rerun everything with the larger file.\n"
      ],
      "execution_count": 2,
      "outputs": []
    },
    {
      "cell_type": "code",
      "metadata": {
        "id": "WKYmX4fOp6sL",
        "outputId": "de643583-a882-4f42-f7b2-cbadcabeca81",
        "colab": {
          "base_uri": "https://localhost:8080/"
        }
      },
      "source": [
        "#infile = 'data/dimuons_1000_collisions.hdf5'\n",
        "\n",
        "# Uncomment the following line if you downloaded the larger file and would like to use it.\n",
        "infile = 'data/dimuons_100k.hdf5'\n",
        "\n",
        "collisions = pps.get_collisions(infile,experiment='CMS',verbose=False)"
      ],
      "execution_count": 3,
      "outputs": [
        {
          "output_type": "stream",
          "name": "stdout",
          "text": [
            "\n",
            "Building a simplified interface to the events...\n",
            "\n",
            "Building the indices...\n",
            "Built the indices!\n",
            "Data is read in and input file is closed.\n",
            "Reading in event  0\n",
            "Reading in event  10000\n",
            "Reading in event  20000\n",
            "Reading in event  30000\n",
            "Reading in event  40000\n",
            "Reading in event  50000\n",
            "Reading in event  60000\n",
            "Reading in event  70000\n",
            "Reading in event  80000\n",
            "Reading in event  90000\n"
          ]
        }
      ]
    },
    {
      "cell_type": "markdown",
      "metadata": {
        "id": "HXprgL6oC2n2"
      },
      "source": [
        "Your histogram should look something like the following sketch, though the peak will be at different values.\n",
        "\n",
        "The value of the peak, should be the mass of the particle <a href=\"http://en.wikipedia.org/wiki/Muon\">Check your answer!</a>\n",
        "\n",
        "You should also make histograms of the energy and magnitude of momentum ($|p|$). You should see a pretty wide range of values for these, and yet the mass is a very specific number.\n",
        "\n",
        "<b>NOTE: If you are getting an error saying that there is no module \"pps_tools\", go to Runtime, and then select Restart runtime. Also make sure that your runtime type is Python 3.</b>"
      ]
    },
    {
      "cell_type": "code",
      "metadata": {
        "id": "WjqWT_Q_C2n2",
        "outputId": "818d5108-39db-40bb-c7c0-2a7ceea3800c",
        "colab": {
          "base_uri": "https://localhost:8080/",
          "height": 341
        }
      },
      "source": [
        "from IPython.display import Image\n",
        "Image(url='https://raw.githubusercontent.com/particle-physics-playground/playground/master/activities/images/muons_sketch.jpeg')"
      ],
      "execution_count": 4,
      "outputs": [
        {
          "output_type": "execute_result",
          "data": {
            "text/html": [
              "<img src=\"https://raw.githubusercontent.com/particle-physics-playground/playground/master/activities/images/muons_sketch.jpeg\"/>"
            ],
            "text/plain": [
              "<IPython.core.display.Image object>"
            ]
          },
          "metadata": {},
          "execution_count": 4
        }
      ]
    },
    {
      "cell_type": "code",
      "source": [
        "import matplotlib.pyplot as plt\n",
        "import numpy as np\n",
        "\n",
        "\n",
        "muon_masses = []\n",
        "for collision in collisions:\n",
        "  muons = collision['muons']\n",
        "  for muon in muons:\n",
        "    mass_squared = muon['e']**2 - (muon['px']**2 + muon['py']**2 + muon['pz']**2)\n",
        "    mass = np.sqrt(mass_squared)\n",
        "    muon_masses.append(mass)"
      ],
      "metadata": {
        "id": "_MCZAF8eWvGx",
        "outputId": "3137f428-fab5-4dcc-85bb-850f9d47866d",
        "colab": {
          "base_uri": "https://localhost:8080/"
        }
      },
      "execution_count": 52,
      "outputs": [
        {
          "output_type": "stream",
          "name": "stderr",
          "text": [
            "<ipython-input-52-314b8ccccc62>:10: RuntimeWarning: invalid value encountered in sqrt\n",
            "  mass = np.sqrt(mass_squared)\n",
            "<ipython-input-52-314b8ccccc62>:10: RuntimeWarning: invalid value encountered in sqrt\n",
            "  mass = np.sqrt(mass_squared)\n"
          ]
        }
      ]
    },
    {
      "cell_type": "code",
      "source": [
        "x = muon['e']**2\n",
        "x"
      ],
      "metadata": {
        "id": "hDetDYrEch5S",
        "outputId": "5d1d1699-306b-4169-9be7-bad36c042edb",
        "colab": {
          "base_uri": "https://localhost:8080/"
        }
      },
      "execution_count": 61,
      "outputs": [
        {
          "output_type": "execute_result",
          "data": {
            "text/plain": [
              "39.836923189596064"
            ]
          },
          "metadata": {},
          "execution_count": 61
        }
      ]
    },
    {
      "cell_type": "code",
      "source": [
        "plt.hist(muon_masses, bins=50)\n",
        "plt.xlabel('Mass (GeV)')\n",
        "plt.ylabel('Frequency')\n",
        "plt.title('Distribution of Muon Masses')\n",
        "plt.show()"
      ],
      "metadata": {
        "id": "gK7e8FzObxgr",
        "outputId": "560b52ce-870e-4db8-a282-e43cbee76b19",
        "colab": {
          "base_uri": "https://localhost:8080/",
          "height": 472
        }
      },
      "execution_count": 55,
      "outputs": [
        {
          "output_type": "display_data",
          "data": {
            "text/plain": [
              "<Figure size 640x480 with 1 Axes>"
            ],
            "image/png": "[encoded data removed]"
          },
          "metadata": {}
        }
      ]
    },
    {
      "cell_type": "code",
      "metadata": {
        "id": "RzrJUPHjC2n6",
        "outputId": "66a4d1f7-46f9-4ed5-c5f0-58bc76cb34e8",
        "colab": {
          "base_uri": "https://localhost:8080/"
        }
      },
      "source": [
        "# Your code here\n",
        "print(len(collisions), 'collisions were read in.')\n",
        "\n",
        "muons_masses = []\n",
        "for entry, collision in enumerate(collisions):\n",
        "  if entry % 1000 == 0:\n",
        "    print(entry)\n",
        "\n",
        "  muons = collision['muons']\n",
        "  nmuons = len(muons)"
      ],
      "execution_count": 63,
      "outputs": [
        {
          "output_type": "stream",
          "name": "stdout",
          "text": [
            "100000 collisions were read in.\n"
          ]
        }
      ]
    },
    {
      "cell_type": "code",
      "source": [],
      "metadata": {
        "id": "e5YGIaz7Uf-Y"
      },
      "execution_count": null,
      "outputs": []
    },
    {
      "cell_type": "markdown",
      "metadata": {
        "id": "y8zCkjBrC2n8"
      },
      "source": [
        "Suppose we didn't know anything about special relativity and we tried calculating the mass from what we know about classical physics.\n",
        "\n",
        "$$KE = \\frac{1}{2}mv^2 \\qquad KE = \\frac{p^2}{2m} \\qquad m = \\frac{p^2}{2KE}$$\n",
        "\n",
        "Let's interpret the energy from the CMS data as the kinetic energy ($KE$). Use classical mechanics then to calculate the mass of the muon, given the energy/KE and the momentum. What does <b>that</b> histogram look like?\n",
        "\n",
        "*Your histogram should not look like the last one! We know that the Classical description of kinematics is not accurate for particle moving at high energies, so don't worry if the two histograms are different. That's the point!  :)*"
      ]
    },
    {
      "cell_type": "code",
      "metadata": {
        "id": "IcWXwGzlC2n-"
      },
      "source": [
        "# Your code here"
      ],
      "execution_count": null,
      "outputs": []
    },
    {
      "cell_type": "code",
      "metadata": {
        "id": "PCULyMRqu9QJ"
      },
      "source": [],
      "execution_count": null,
      "outputs": []
    }
  ]
}