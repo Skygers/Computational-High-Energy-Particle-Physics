{
  "nbformat": 4,
  "nbformat_minor": 0,
  "metadata": {
    "colab": {
      "provenance": [],
      "include_colab_link": true
    },
    "kernelspec": {
      "display_name": "Python 3",
      "language": "python",
      "name": "python3"
    }
  },
  "cells": [
    {
      "cell_type": "markdown",
      "metadata": {
        "id": "view-in-github",
        "colab_type": "text"
      },
      "source": [
        "<a href=\"https://colab.research.google.com/github/Skygers/Computational-High-Energy-Particle-Physics/blob/main/CMS/activity00_CMS_muons.ipynb\" target=\"_parent\"><img src=\"https://colab.research.google.com/assets/colab-badge.svg\" alt=\"Open In Colab\"/></a>"
      ]
    },
    {
      "cell_type": "markdown",
      "metadata": {
        "id": "hX4Slau4BG5f"
      },
      "source": [
        "# How to edit and save this notebook to your personal Google Drive\n",
        "\n",
        "If you try to run code in this notebook, you will be unable to as you are not the owner. Instead, you should first make a copy.\n",
        "\n",
        "To copy this notebook to your Google Drive\n",
        "* Select **File** (from the menu at the top) to get the drop-down options.\n",
        "* Select **Save a copy in Drive**.\n",
        "\n",
        "This will automatically open the copy in a new tab for you to work in. This new notebook will be saved into a folder on your personal Drive called *Colab Notebooks*.\n",
        "\n",
        "After you do this, you will be able to edit and run the notebook and save your changes.\n",
        "\n",
        "Still stumped? Check out <a href=\"https://www.youtube.com/watch?v=qaJ2UpMPXKk\"> this video</a> for help or the **Documentation and help** section of the Particle Physics Playground."
      ]
    },
    {
      "cell_type": "markdown",
      "metadata": {
        "id": "clEqqOhrC2ng"
      },
      "source": [
        "# Relativistic kinematics"
      ]
    },
    {
      "cell_type": "markdown",
      "metadata": {
        "id": "SyMLvX3SC2nj"
      },
      "source": [
        "<h3>Learning goals</h3>\n",
        "<ul>\n",
        "    <li>Relativistic kinematics.\n",
        "    <li>Standard model particles.\n",
        "</ul>"
      ]
    },
    {
      "cell_type": "markdown",
      "metadata": {
        "id": "xXKjPEkqC2nm"
      },
      "source": [
        "<b>Background</b>\n",
        "\n",
        "If you know the mass of a particle, most of the time you know <i>what that particle is</i>. However, there is no way to just build a single detector that gives you the mass. You need to be clever and make use of Special relativity, specifically <a href=\"http://en.wikipedia.org/wiki/Relativistic_mechanics\">relativistic kinematics</a>.\n",
        "\n",
        "To determine the mass ($m$) of a particle you need to know the 4-momenta of the particles ($\\mathbf{P}$) that are detected after the collision: the energy ($E$), the momentum in the x direction ($p_x$), the momentum in the y direction ($p_y$), the momentum in the z direction ($p_z$).\n",
        "\n",
        "$$\\mathbf{P} = (E,p_x,p_y,p_z)$$\n",
        "\n",
        "\n",
        "\\begin{equation*} m = \\sqrt{E^2-(p_x^2+p_y^2 + p_z^2)} \\end{equation*}\n"
      ]
    },
    {
      "cell_type": "markdown",
      "metadata": {
        "id": "tEBotUylC2nn"
      },
      "source": [
        "<b>Let's code!</b>\n",
        "\n",
        "Here is some sample code that reads in data from a small sample file from the <a href = \"http://cms.cern/\">CMS experiment</a>. It loops over data from many different proton-proton collisions.\n",
        "\n",
        "If you haven't already, you will want to go through the [Data Interfacing](https://colab.research.google.com/drive/1wMs8ffF8KjQhulL90_fCCVIZT5Q4e9x5) exercise so you know how to pull out the relevant information.\n",
        "\n",
        "For each collision, you can get the 4-momenta of the jets, muons, electrons, and photons produced in these collisions.\n",
        "\n"
      ]
    },
    {
      "cell_type": "markdown",
      "metadata": {
        "id": "JoRzIWp-C2n1"
      },
      "source": [
        "<h2><font color=\"red\">Challenge!</font></h2>\n",
        "\n",
        "Copy this sample code and use it to calculate the mass of the muons. Make a histogram of this quantity.\n",
        "\n",
        "<i>Hint!</i>\n",
        "\n",
        "Make sure you do this for all the muons! Each collision can produce differing numbers of muons, so take care when you code this up."
      ]
    },
    {
      "cell_type": "code",
      "metadata": {
        "id": "ZlZXynvoC2np"
      },
      "source": [
        "###### This cell need only be run once per session ##############\n",
        "###### Make sure your runtime type is Python 3 #########\n",
        "\n",
        "# Import h5hep from Github. This is to allow us to read these\n",
        "# particular files.\n",
        "!pip install git+https://github.com/mattbellis/h5hep.git\n",
        "\n",
        "# Import custom tools package from Github. These are some simple accessor functions\n",
        "# to make it easier to work with these data files.\n",
        "!pip install git+https://github.com/mattbellis/particle_physics_simplified.git\n",
        "\n",
        "import pps_tools as pps\n",
        "import h5hep"
      ],
      "execution_count": null,
      "outputs": []
    },
    {
      "cell_type": "code",
      "metadata": {
        "id": "iXFgDnMl-930"
      },
      "source": [
        "###### This cell need only be run once per session ############################\n",
        "\n",
        "# Fetch data file with 1000 collisions\n",
        "pps.download_from_drive('dimuons_1000_collisions.hdf5')\n",
        "\n",
        "# Uncomment the line below to download a larger dataset with 100,000 collisions\n",
        "#pps.download_from_drive('dimuons_100k.hdf5')\n",
        "\n",
        "# You may want to test your code with the smaller file, and then when it works,\n",
        "# rerun everything with the larger file.\n"
      ],
      "execution_count": null,
      "outputs": []
    },
    {
      "cell_type": "code",
      "metadata": {
        "id": "WKYmX4fOp6sL"
      },
      "source": [
        "infile = 'data/dimuons_1000_collisions.hdf5'\n",
        "\n",
        "# Uncomment the following line if you downloaded the larger file and would like to use it.\n",
        "#infile = 'data/dimuons_100k.hdf5'\n",
        "\n",
        "collisions = pps.get_collisions(infile,experiment='CMS',verbose=False)"
      ],
      "execution_count": null,
      "outputs": []
    },
    {
      "cell_type": "markdown",
      "metadata": {
        "id": "HXprgL6oC2n2"
      },
      "source": [
        "Your histogram should look something like the following sketch, though the peak will be at different values.\n",
        "\n",
        "The value of the peak, should be the mass of the particle <a href=\"http://en.wikipedia.org/wiki/Muon\">Check your answer!</a>\n",
        "\n",
        "You should also make histograms of the energy and magnitude of momentum ($|p|$). You should see a pretty wide range of values for these, and yet the mass is a very specific number.\n",
        "\n",
        "<b>NOTE: If you are getting an error saying that there is no module \"pps_tools\", go to Runtime, and then select Restart runtime. Also make sure that your runtime type is Python 3.</b>"
      ]
    },
    {
      "cell_type": "code",
      "metadata": {
        "id": "WjqWT_Q_C2n2"
      },
      "source": [
        "from IPython.display import Image\n",
        "Image(url='https://raw.githubusercontent.com/particle-physics-playground/playground/master/activities/images/muons_sketch.jpeg')"
      ],
      "execution_count": null,
      "outputs": []
    },
    {
      "cell_type": "code",
      "metadata": {
        "id": "RzrJUPHjC2n6"
      },
      "source": [
        "# Your code here"
      ],
      "execution_count": null,
      "outputs": []
    },
    {
      "cell_type": "markdown",
      "metadata": {
        "id": "y8zCkjBrC2n8"
      },
      "source": [
        "Suppose we didn't know anything about special relativity and we tried calculating the mass from what we know about classical physics.\n",
        "\n",
        "$$KE = \\frac{1}{2}mv^2 \\qquad KE = \\frac{p^2}{2m} \\qquad m = \\frac{p^2}{2KE}$$\n",
        "\n",
        "Let's interpret the energy from the CMS data as the kinetic energy ($KE$). Use classical mechanics then to calculate the mass of the muon, given the energy/KE and the momentum. What does <b>that</b> histogram look like?\n",
        "\n",
        "*Your histogram should not look like the last one! We know that the Classical description of kinematics is not accurate for particle moving at high energies, so don't worry if the two histograms are different. That's the point!  :)*"
      ]
    },
    {
      "cell_type": "code",
      "metadata": {
        "id": "IcWXwGzlC2n-"
      },
      "source": [
        "# Your code here"
      ],
      "execution_count": null,
      "outputs": []
    },
    {
      "cell_type": "code",
      "metadata": {
        "id": "PCULyMRqu9QJ"
      },
      "source": [],
      "execution_count": null,
      "outputs": []
    }
  ]
}